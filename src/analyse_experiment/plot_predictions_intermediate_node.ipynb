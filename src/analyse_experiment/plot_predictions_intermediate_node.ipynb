{
 "cells": [
  {
   "cell_type": "code",
   "execution_count": null,
   "outputs": [],
   "source": [
    "from definitions import ROOT_DIR\n",
    "import json\n",
    "import matplotlib.pyplot as plt\n",
    "import numpy as np\n",
    "from pathlib import Path\n",
    "import seaborn as sns\n",
    "import matplotlib.lines as lines"
   ],
   "metadata": {
    "collapsed": false
   },
   "id": "d6b14ebfc26d8475"
  },
  {
   "cell_type": "markdown",
   "source": [
    "### Load Data from disc "
   ],
   "metadata": {
    "collapsed": false
   },
   "id": "586bdbe6e447b840"
  },
  {
   "cell_type": "code",
   "execution_count": null,
   "outputs": [],
   "source": [
    "paths_to_dict = [\n",
    "\n",
    "    'priors/test_model__neural_net__data_grammar_8_run_1__Bi_LSTM_Measurement_Encoder__Transformer_Encoder_String250__Endgame__.json',\n",
    "    #'priors/test_model__neural_net__data_grammar_8_run_1__Bi_LSTM_Measurement_Encoder__Transformer_Encoder_String125__Endgame__.json',\n",
    "    #'priors/test_model__neural_net__data_grammar_8_run_1__Bi_LSTM_Measurement_Encoder__Transformer_Encoder_String50__Endgame__.json',\n",
    "    'priors/test_model__neural_net__data_grammar_8_run_1__Bi_LSTM_Measurement_Encoder__Transformer_Encoder_String5__Endgame__.json',\n",
    "    'priors/test_model__neural_net__data_grammar_8_run_1__Bi_LSTM_Measurement_Encoder__Transformer_Encoder_Stringsupervised__Endgame__.json',\n",
    "    'priors/test_model__neural_net__data_grammar_8_run_1__MeasurementEncoderDummy__Transformer_Encoder_Stringsupervised__Endgame__.json',\n",
    "    'priors/test_model__neural_net__data_grammar_8_run_1__Bi_LSTM_Measurement_Encoder__EquationEncoderDummysupervised__Endgame__.json',\n",
    "    'priors/test_model__uniform.json',\n",
    "    #'priors/test_model_token__neural_net__data_grammar_8_run_1__DatasetTransformer__Transformer_Encoder_Stringsupervised__Endgame__.json'\n",
    "]\n",
    "y_axis_label = {\n",
    "    'test_model__uniform': 'normalized',\n",
    "    'test_model__neural_net__data_grammar_8_run_1__Bi_LSTM_Measurement_Encoder__Transformer_Encoder_String250__Endgame__': 'MCTS 250',\n",
    "    'test_model__neural_net__data_grammar_8_run_1__Bi_LSTM_Measurement_Encoder__Transformer_Encoder_String125__Endgame__': 'MCTS 125',\n",
    "    'test_model__neural_net__data_grammar_8_run_1__Bi_LSTM_Measurement_Encoder__Transformer_Encoder_String50__Endgame__': 'MCTS 50',\n",
    "    'test_model__neural_net__data_grammar_8_run_1__Bi_LSTM_Measurement_Encoder__Transformer_Encoder_String5__Endgame__': 'MCTS 5',\n",
    "    'test_model__neural_net__data_grammar_8_run_1__Bi_LSTM_Measurement_Encoder__Transformer_Encoder_Stringsupervised__Endgame__': 'Complete',\n",
    "    'test_model__neural_net__data_grammar_8_run_1__MeasurementEncoderDummy__Transformer_Encoder_Stringsupervised__Endgame__': 'No Dataset',\n",
    "    'test_model__neural_net__data_grammar_8_run_1__Bi_LSTM_Measurement_Encoder__EquationEncoderDummysupervised__Endgame__': 'No Tree',\n",
    "    #'test_model_token__neural_net__data_grammar_8_run_1__Bi_LSTM_Measurement__Transformer_Encoder_Stringsupervised__Endgame__': 'Token_Supervised NPT',\n",
    "}\n",
    "priors_dict = {}\n",
    "for path in paths_to_dict:\n",
    "    with open(ROOT_DIR / path, 'r') as file:\n",
    "        loaded_data = json.load(file)\n",
    "        priors_dict[Path(path).stem] = loaded_data"
   ],
   "metadata": {
    "collapsed": false
   },
   "id": "746824705b6d9748"
  },
  {
   "cell_type": "markdown",
   "source": [
    "### visualize prediction"
   ],
   "metadata": {
    "collapsed": false
   },
   "id": "3cd04a541deec1e3"
  },
  {
   "cell_type": "code",
   "execution_count": null,
   "outputs": [],
   "source": [
    "def forward(value):\n",
    "    result = np.where(value <= 0.1, value * 5, (value - 0.1) * 5 / 9 + 0.5)\n",
    "    return result\n",
    "\n",
    "\n",
    "def inverse(value):\n",
    "    return np.where(value <= 0.5, value / 5, (value - 0.5) * 9 / 5 - 0.1)\n",
    "\n",
    "# Skip actions 21 - 25 \n",
    "fig, axs = plt.subplots(len(paths_to_dict), 23, figsize=(8,  len(paths_to_dict)), sharey=True, sharex=True)\n",
    "equations = {\n",
    "     \" + c  sin x_0 + c  sin Variable\": '$ c + \\sin(x_0)$',\n",
    "    \" + c  sin x_1 + c  sin Variable\" : '$ c + \\sin(x_1)$',\n",
    "   \n",
    "}\n",
    "for row, architecture in enumerate(priors_dict):\n",
    "    for column in range(23):\n",
    "        column = column\n",
    "        if column >= 21: \n",
    "            action = column + 5\n",
    "        else: \n",
    "            action = column\n",
    "        prior_mean = []\n",
    "        prior_std = []\n",
    "        for equation in equations:\n",
    "            keys = list(priors_dict[architecture][equation].keys())\n",
    "            prior = []\n",
    "            for key in keys:\n",
    "                prior.append(priors_dict[architecture][equation][key][action])\n",
    "            prior_mean.append(np.mean(prior))\n",
    "            prior_std.append(np.std(prior))\n",
    "        axs[row, column].set_yscale('function', functions=(forward, inverse))\n",
    "        for i in range(len(equations)):\n",
    "            pass\n",
    "            axs[row, column].errorbar(x=i, \n",
    "                                      y=prior_mean[i],\n",
    "                                      yerr=prior_std[i],\n",
    "                                      fmt=['.', 'o', 'v', 'H'][i],\n",
    "                                      ls='none',\n",
    "                                      color=['black', 'dimgrey', 'gray', 'darkgrey', ][i],\n",
    "                                      label=equations[list(equations.keys())[i]]\n",
    "                                      )\n",
    "\n",
    "        x_tick_labels = axs[row, column].get_xticklabels()\n",
    "        axs[row, column].set_xticklabels(['' for label in x_tick_labels])\n",
    "        axs[row, column].set_xlabel(action)\n",
    "        if column == 0:\n",
    "            axs[row, column].set_ylabel(y_axis_label[architecture])\n",
    "        axs[row, column].grid(visible=False, axis='x', which='both')\n",
    "        axs[row, column].spines['top'].set_visible(False)\n",
    "        axs[row, column].spines['right'].set_visible(False)\n",
    "        axs[row, column].spines['bottom'].set_visible(False)\n",
    "        axs[row, column].spines['left'].set_visible(False)\n",
    "        #axs[row, column].set_xlim((-0.1, 1.1))\n",
    "        axs[row, column].set_ylim((-0.01, 1.15))\n",
    "        axs[row, column].set_yticks([0,  0.1,  1])  # [0, 0.05, 0.1, 0.5, 1]\n",
    "\n",
    "\n",
    "fig.text(0.5, 0, 'Actions')\n",
    "fig.add_artist(lines.Line2D([-0.02, 0.05], [0.68, 0.68], color='k'))\n",
    "fig.add_artist(lines.Line2D([-0.02, 0.05], [0.2, 0.2], color='k'))\n",
    "fig.text(-0.02, 0.78, 'Prior', rotation=90)\n",
    "fig.text(-0.02, 0.35, 'Prior Supervised ', rotation=90)\n",
    "fig.text(-0.02, 0.1, 'Qsa', rotation=90)\n",
    "\n",
    "handles, labels = axs[0, 0].get_legend_handles_labels()\n",
    "fig.legend(handles, labels, loc='upper center', ncol=5)\n",
    "fig.tight_layout()\n",
    "fig.savefig('priors_intermediate_node.pdf', bbox_inches='tight')\n",
    "plt.show()\n",
    "        \n"
   ],
   "metadata": {
    "collapsed": false
   },
   "id": "df91dc67ba18494e"
  }
 ],
 "metadata": {
  "kernelspec": {
   "display_name": "Python 3",
   "language": "python",
   "name": "python3"
  },
  "language_info": {
   "codemirror_mode": {
    "name": "ipython",
    "version": 2
   },
   "file_extension": ".py",
   "mimetype": "text/x-python",
   "name": "python",
   "nbconvert_exporter": "python",
   "pygments_lexer": "ipython2",
   "version": "2.7.6"
  }
 },
 "nbformat": 4,
 "nbformat_minor": 5
}

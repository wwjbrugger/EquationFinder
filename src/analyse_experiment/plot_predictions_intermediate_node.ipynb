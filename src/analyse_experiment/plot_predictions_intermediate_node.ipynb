{
 "cells": [
  {
   "cell_type": "code",
   "execution_count": 2,
   "outputs": [],
   "source": [
    "from definitions import ROOT_DIR\n",
    "import json\n",
    "import matplotlib.pyplot as plt\n",
    "import numpy as np\n",
    "from pathlib import Path\n",
    "import seaborn as sns"
   ],
   "metadata": {
    "collapsed": false,
    "ExecuteTime": {
     "end_time": "2024-05-15T21:27:51.745198655Z",
     "start_time": "2024-05-15T21:27:51.720928690Z"
    }
   },
   "id": "d6b14ebfc26d8475"
  },
  {
   "cell_type": "markdown",
   "source": [
    "### Load Data from disc "
   ],
   "metadata": {
    "collapsed": false
   },
   "id": "586bdbe6e447b840"
  },
  {
   "cell_type": "code",
   "execution_count": 3,
   "outputs": [],
   "source": [
    "paths_to_dict = [\n",
    "\n",
    "    'priors/test_model__neural_net__data_grammar_8_run_1__Bi_LSTM_Measurement_Encoder__Transformer_Encoder_String250__Endgame__.json',\n",
    "    'priors/test_model__neural_net__data_grammar_8_run_1__Bi_LSTM_Measurement_Encoder__Transformer_Encoder_String125__Endgame__.json',\n",
    "    'priors/test_model__neural_net__data_grammar_8_run_1__Bi_LSTM_Measurement_Encoder__Transformer_Encoder_String50__Endgame__.json',\n",
    "    'priors/test_model__neural_net__data_grammar_8_run_1__Bi_LSTM_Measurement_Encoder__Transformer_Encoder_String5__Endgame__.json',\n",
    "    'priors/test_model__neural_net__data_grammar_8_run_1__Bi_LSTM_Measurement_Encoder__Transformer_Encoder_Stringsupervised__Endgame__.json',\n",
    "    'priors/test_model__neural_net__data_grammar_8_run_1__MeasurementEncoderDummy__Transformer_Encoder_Stringsupervised__Endgame__.json',\n",
    "        'priors/test_model__uniform.json',\n",
    "    #'priors/test_model__neural_net__data_grammar_8_run_1__Bi_LSTM_Measurement_Encoder__EquationEncoderDummysupervised__Endgame__.json',\n",
    "    #'priors/test_model_token__neural_net__data_grammar_8_run_1__DatasetTransformer__Transformer_Encoder_Stringsupervised__Endgame__.json'\n",
    "]\n",
    "y_axis_label = {\n",
    "    'test_model__uniform': 'uniform',\n",
    "    'test_model__neural_net__data_grammar_8_run_1__Bi_LSTM_Measurement_Encoder__Transformer_Encoder_String250__Endgame__': '250 Bi LSTM',\n",
    "    'test_model__neural_net__data_grammar_8_run_1__Bi_LSTM_Measurement_Encoder__Transformer_Encoder_String125__Endgame__': '125 Bi LSTM',\n",
    "    'test_model__neural_net__data_grammar_8_run_1__Bi_LSTM_Measurement_Encoder__Transformer_Encoder_String50__Endgame__': '50 Bi LSTM',\n",
    "    'test_model__neural_net__data_grammar_8_run_1__Bi_LSTM_Measurement_Encoder__Transformer_Encoder_String5__Endgame__': '5 Bi LSTM',\n",
    "    'test_model__neural_net__data_grammar_8_run_1__Bi_LSTM_Measurement_Encoder__Transformer_Encoder_Stringsupervised__Endgame__': 'supervised \\n Bi LSTM',\n",
    "    'test_model__neural_net__data_grammar_8_run_1__MeasurementEncoderDummy__Transformer_Encoder_Stringsupervised__Endgame__': 'supervised \\n No Dataset',\n",
    "    'test_model__neural_net__data_grammar_8_run_1__Bi_LSTM_Measurement_Encoder__EquationEncoderDummysupervised__Endgame__': 'supervised \\n  Bi LSTM \\n No Syntax Tree ',\n",
    "    #'test_model_token__neural_net__data_grammar_8_run_1__Bi_LSTM_Measurement__Transformer_Encoder_Stringsupervised__Endgame__': 'Token_Supervised NPT',\n",
    "}\n",
    "priors_dict = {}\n",
    "for path in paths_to_dict:\n",
    "    with open(ROOT_DIR / path, 'r') as file:\n",
    "        loaded_data = json.load(file)\n",
    "        priors_dict[Path(path).stem] = loaded_data"
   ],
   "metadata": {
    "collapsed": false,
    "ExecuteTime": {
     "end_time": "2024-05-15T21:27:53.593998951Z",
     "start_time": "2024-05-15T21:27:53.577846842Z"
    }
   },
   "id": "746824705b6d9748"
  },
  {
   "cell_type": "markdown",
   "source": [
    "### visualize prediction"
   ],
   "metadata": {
    "collapsed": false
   },
   "id": "3cd04a541deec1e3"
  },
  {
   "cell_type": "code",
   "execution_count": null,
   "outputs": [],
   "source": [
    "fig, axs = plt.subplots(len(paths_to_dict), 21, figsize=(12, len(paths_to_dict)  + 1), sharey=True, sharex=True)\n",
    "equations = [\n",
    "    ' / c x_1 ',\n",
    "    ' + c  sin x_1 ',\n",
    "    ' +  * c  ** 2 x_0    +  * c  ** 3 x_0    * c x_1   ',\n",
    "    ' + c  ** 2 x_0  ',\n",
    "\n",
    "]\n",
    "for row, architecture in enumerate(priors_dict):\n",
    "    for action in range(21):\n",
    "        prior_mean = []\n",
    "        prior_std = []\n",
    "        for equation in equations:\n",
    "            keys = list(priors_dict[architecture][equation].keys())\n",
    "            prior = []\n",
    "            for key in keys:\n",
    "                prior.append(priors_dict[architecture][equation][key][action])\n",
    "            prior_mean.append(np.mean(prior))\n",
    "            prior_std.append(np.std(prior))\n",
    "        # axs[row, action].bar(x=range(len(equations)),\n",
    "        #                      height=prior_mean,\n",
    "        #                      color=sns.color_palette(\"BuGn\", len(equations)),\n",
    "        #                      label=equations\n",
    "        #                      )\n",
    "        for i in range(len(equations)):\n",
    "            axs[row, action].errorbar(x=i, #range(len(equations)),\n",
    "                                      y=prior_mean[i],\n",
    "                                      yerr=prior_std[i],\n",
    "                                      fmt=['.', 'o', 'v', 'H'][i],\n",
    "                                      ls='none',\n",
    "                                      color= ['black', 'dimgrey', 'gray', 'darkgrey',][i],\n",
    "                                      #c=sns.color_palette(\"BuGn\", len(equations)),\n",
    "                                      #capsize=5,\n",
    "                                       label=equations[i]\n",
    "                                      )\n",
    "\n",
    "        x_tick_labels = axs[row, action].get_xticklabels()\n",
    "        axs[row, action].set_xticklabels(['' for label in x_tick_labels])\n",
    "        axs[row, action].set_xlabel(action)\n",
    "        if action == 0:\n",
    "            axs[row, action].set_ylabel(y_axis_label[architecture])\n",
    "        axs[row, action].grid(visible=False, axis='x', which='both')\n",
    "        axs[row, action].spines['top'].set_visible(False)\n",
    "        axs[row, action].spines['right'].set_visible(False)\n",
    "        axs[row, action].spines['bottom'].set_visible(False)\n",
    "        axs[row, action].spines['left'].set_visible(False)\n",
    "fig.text(0.5, 0, 'actions')\n",
    "fig.text(0, 0.5, 'prior', rotation=90)\n",
    "handles, labels = axs[0, 0].get_legend_handles_labels()\n",
    "fig.legend(handles, labels, loc='upper center', ncol=5)\n",
    "fig.tight_layout()\n",
    "fig.savefig('priors.pdf')\n",
    "plt.show()\n",
    "        \n"
   ],
   "metadata": {
    "collapsed": false,
    "is_executing": true,
    "ExecuteTime": {
     "start_time": "2024-05-15T21:28:02.383210601Z"
    }
   },
   "id": "df91dc67ba18494e"
  }
 ],
 "metadata": {
  "kernelspec": {
   "display_name": "Python 3",
   "language": "python",
   "name": "python3"
  },
  "language_info": {
   "codemirror_mode": {
    "name": "ipython",
    "version": 2
   },
   "file_extension": ".py",
   "mimetype": "text/x-python",
   "name": "python",
   "nbconvert_exporter": "python",
   "pygments_lexer": "ipython2",
   "version": "2.7.6"
  }
 },
 "nbformat": 4,
 "nbformat_minor": 5
}

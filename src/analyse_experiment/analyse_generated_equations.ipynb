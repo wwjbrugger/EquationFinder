{
 "cells": [
  {
   "cell_type": "code",
   "execution_count": 2,
   "id": "initial_id",
   "metadata": {
    "collapsed": true,
    "ExecuteTime": {
     "end_time": "2024-05-12T20:52:08.889801154Z",
     "start_time": "2024-05-12T20:52:08.534138746Z"
    }
   },
   "outputs": [],
   "source": [
    "import numpy as np\n",
    "import pandas as pd\n",
    "import wandb\n",
    "import seaborn as sns\n",
    "import matplotlib.pyplot as plt\n",
    "from tqdm.notebook import trange, tqdm"
   ]
  },
  {
   "cell_type": "code",
   "execution_count": 5,
   "outputs": [
    {
     "data": {
      "text/plain": "  0%|          | 0/44 [00:00<?, ?it/s]",
      "application/vnd.jupyter.widget-view+json": {
       "version_major": 2,
       "version_minor": 0,
       "model_id": "81a2d4f442364528867790e7c16ccce7"
      }
     },
     "metadata": {},
     "output_type": "display_data"
    },
    {
     "name": "stdout",
     "output_type": "stream",
     "text": [
      "None no sim object\n",
      "None no sim object\n"
     ]
    },
    {
     "ename": "KeyboardInterrupt",
     "evalue": "",
     "output_type": "error",
     "traceback": [
      "\u001B[0;31m---------------------------------------------------------------------------\u001B[0m",
      "\u001B[0;31mKeyboardInterrupt\u001B[0m                         Traceback (most recent call last)",
      "\u001B[0;32m/tmp/ipykernel_12525/1471344235.py\u001B[0m in \u001B[0;36m<cell line: 14>\u001B[0;34m()\u001B[0m\n\u001B[1;32m     22\u001B[0m         \u001B[0;32mif\u001B[0m \u001B[0mnp\u001B[0m\u001B[0;34m.\u001B[0m\u001B[0many\u001B[0m\u001B[0;34m(\u001B[0m\u001B[0mnp\u001B[0m\u001B[0;34m.\u001B[0m\u001B[0marray\u001B[0m\u001B[0;34m(\u001B[0m\u001B[0mresult_dict\u001B[0m\u001B[0;34m[\u001B[0m\u001B[0;34m\"sim\"\u001B[0m\u001B[0;34m]\u001B[0m\u001B[0;34m)\u001B[0m \u001B[0;34m<\u001B[0m \u001B[0;36m0\u001B[0m\u001B[0;34m)\u001B[0m\u001B[0;34m:\u001B[0m\u001B[0;34m\u001B[0m\u001B[0;34m\u001B[0m\u001B[0m\n\u001B[1;32m     23\u001B[0m             \u001B[0mprint\u001B[0m\u001B[0;34m(\u001B[0m\u001B[0;34m'Helleo '\u001B[0m\u001B[0;34m)\u001B[0m\u001B[0;34m\u001B[0m\u001B[0;34m\u001B[0m\u001B[0m\n\u001B[0;32m---> 24\u001B[0;31m         \u001B[0mt\u001B[0m \u001B[0;34m=\u001B[0m \u001B[0mnp\u001B[0m\u001B[0;34m.\u001B[0m\u001B[0marray\u001B[0m\u001B[0;34m(\u001B[0m\u001B[0mresult_dict\u001B[0m\u001B[0;34m[\u001B[0m\u001B[0;34m\"sim\"\u001B[0m\u001B[0;34m]\u001B[0m\u001B[0;34m)\u001B[0m\u001B[0;34m\u001B[0m\u001B[0;34m\u001B[0m\u001B[0m\n\u001B[0m\u001B[1;32m     25\u001B[0m         \u001B[0mmeans_sim\u001B[0m\u001B[0;34m.\u001B[0m\u001B[0mappend\u001B[0m\u001B[0;34m(\u001B[0m\u001B[0mnp\u001B[0m\u001B[0;34m.\u001B[0m\u001B[0mmean\u001B[0m\u001B[0;34m(\u001B[0m\u001B[0mresult_dict\u001B[0m\u001B[0;34m[\u001B[0m\u001B[0;34m\"sim\"\u001B[0m\u001B[0;34m]\u001B[0m\u001B[0;34m)\u001B[0m\u001B[0;34m)\u001B[0m\u001B[0;34m\u001B[0m\u001B[0;34m\u001B[0m\u001B[0m\n\u001B[1;32m     26\u001B[0m         \u001B[0mstds_sim\u001B[0m\u001B[0;34m.\u001B[0m\u001B[0mappend\u001B[0m\u001B[0;34m(\u001B[0m\u001B[0mnp\u001B[0m\u001B[0;34m.\u001B[0m\u001B[0mstd\u001B[0m\u001B[0;34m(\u001B[0m\u001B[0mresult_dict\u001B[0m\u001B[0;34m[\u001B[0m\u001B[0;34m\"sim\"\u001B[0m\u001B[0;34m]\u001B[0m\u001B[0;34m)\u001B[0m\u001B[0;34m)\u001B[0m\u001B[0;34m\u001B[0m\u001B[0;34m\u001B[0m\u001B[0m\n",
      "\u001B[0;32m/tmp/ipykernel_12525/1471344235.py\u001B[0m in \u001B[0;36m<cell line: 14>\u001B[0;34m()\u001B[0m\n\u001B[1;32m     22\u001B[0m         \u001B[0;32mif\u001B[0m \u001B[0mnp\u001B[0m\u001B[0;34m.\u001B[0m\u001B[0many\u001B[0m\u001B[0;34m(\u001B[0m\u001B[0mnp\u001B[0m\u001B[0;34m.\u001B[0m\u001B[0marray\u001B[0m\u001B[0;34m(\u001B[0m\u001B[0mresult_dict\u001B[0m\u001B[0;34m[\u001B[0m\u001B[0;34m\"sim\"\u001B[0m\u001B[0;34m]\u001B[0m\u001B[0;34m)\u001B[0m \u001B[0;34m<\u001B[0m \u001B[0;36m0\u001B[0m\u001B[0;34m)\u001B[0m\u001B[0;34m:\u001B[0m\u001B[0;34m\u001B[0m\u001B[0;34m\u001B[0m\u001B[0m\n\u001B[1;32m     23\u001B[0m             \u001B[0mprint\u001B[0m\u001B[0;34m(\u001B[0m\u001B[0;34m'Helleo '\u001B[0m\u001B[0;34m)\u001B[0m\u001B[0;34m\u001B[0m\u001B[0;34m\u001B[0m\u001B[0m\n\u001B[0;32m---> 24\u001B[0;31m         \u001B[0mt\u001B[0m \u001B[0;34m=\u001B[0m \u001B[0mnp\u001B[0m\u001B[0;34m.\u001B[0m\u001B[0marray\u001B[0m\u001B[0;34m(\u001B[0m\u001B[0mresult_dict\u001B[0m\u001B[0;34m[\u001B[0m\u001B[0;34m\"sim\"\u001B[0m\u001B[0;34m]\u001B[0m\u001B[0;34m)\u001B[0m\u001B[0;34m\u001B[0m\u001B[0;34m\u001B[0m\u001B[0m\n\u001B[0m\u001B[1;32m     25\u001B[0m         \u001B[0mmeans_sim\u001B[0m\u001B[0;34m.\u001B[0m\u001B[0mappend\u001B[0m\u001B[0;34m(\u001B[0m\u001B[0mnp\u001B[0m\u001B[0;34m.\u001B[0m\u001B[0mmean\u001B[0m\u001B[0;34m(\u001B[0m\u001B[0mresult_dict\u001B[0m\u001B[0;34m[\u001B[0m\u001B[0;34m\"sim\"\u001B[0m\u001B[0;34m]\u001B[0m\u001B[0;34m)\u001B[0m\u001B[0;34m)\u001B[0m\u001B[0;34m\u001B[0m\u001B[0;34m\u001B[0m\u001B[0m\n\u001B[1;32m     26\u001B[0m         \u001B[0mstds_sim\u001B[0m\u001B[0;34m.\u001B[0m\u001B[0mappend\u001B[0m\u001B[0;34m(\u001B[0m\u001B[0mnp\u001B[0m\u001B[0;34m.\u001B[0m\u001B[0mstd\u001B[0m\u001B[0;34m(\u001B[0m\u001B[0mresult_dict\u001B[0m\u001B[0;34m[\u001B[0m\u001B[0;34m\"sim\"\u001B[0m\u001B[0;34m]\u001B[0m\u001B[0;34m)\u001B[0m\u001B[0;34m)\u001B[0m\u001B[0;34m\u001B[0m\u001B[0;34m\u001B[0m\u001B[0m\n",
      "\u001B[0;32m/snap/pycharm-professional/375/plugins/python/helpers/pydev/_pydevd_bundle/pydevd_frame.py\u001B[0m in \u001B[0;36mtrace_dispatch\u001B[0;34m(self, frame, event, arg)\u001B[0m\n\u001B[1;32m    745\u001B[0m                 \u001B[0;31m# if thread has a suspend flag, we suspend with a busy wait\u001B[0m\u001B[0;34m\u001B[0m\u001B[0;34m\u001B[0m\u001B[0m\n\u001B[1;32m    746\u001B[0m                 \u001B[0;32mif\u001B[0m \u001B[0minfo\u001B[0m\u001B[0;34m.\u001B[0m\u001B[0mpydev_state\u001B[0m \u001B[0;34m==\u001B[0m \u001B[0mSTATE_SUSPEND\u001B[0m\u001B[0;34m:\u001B[0m\u001B[0;34m\u001B[0m\u001B[0;34m\u001B[0m\u001B[0m\n\u001B[0;32m--> 747\u001B[0;31m                     \u001B[0mself\u001B[0m\u001B[0;34m.\u001B[0m\u001B[0mdo_wait_suspend\u001B[0m\u001B[0;34m(\u001B[0m\u001B[0mthread\u001B[0m\u001B[0;34m,\u001B[0m \u001B[0mframe\u001B[0m\u001B[0;34m,\u001B[0m \u001B[0mevent\u001B[0m\u001B[0;34m,\u001B[0m \u001B[0marg\u001B[0m\u001B[0;34m)\u001B[0m\u001B[0;34m\u001B[0m\u001B[0;34m\u001B[0m\u001B[0m\n\u001B[0m\u001B[1;32m    748\u001B[0m                     \u001B[0;31m# No need to reset frame.f_trace to keep the same trace function.\u001B[0m\u001B[0;34m\u001B[0m\u001B[0;34m\u001B[0m\u001B[0m\n\u001B[1;32m    749\u001B[0m                     \u001B[0;32mreturn\u001B[0m \u001B[0mself\u001B[0m\u001B[0;34m.\u001B[0m\u001B[0mtrace_dispatch\u001B[0m\u001B[0;34m\u001B[0m\u001B[0;34m\u001B[0m\u001B[0m\n",
      "\u001B[0;32m/snap/pycharm-professional/375/plugins/python/helpers/pydev/_pydevd_bundle/pydevd_frame.py\u001B[0m in \u001B[0;36mdo_wait_suspend\u001B[0;34m(self, *args, **kwargs)\u001B[0m\n\u001B[1;32m    142\u001B[0m \u001B[0;34m\u001B[0m\u001B[0m\n\u001B[1;32m    143\u001B[0m     \u001B[0;32mdef\u001B[0m \u001B[0mdo_wait_suspend\u001B[0m\u001B[0;34m(\u001B[0m\u001B[0mself\u001B[0m\u001B[0;34m,\u001B[0m \u001B[0;34m*\u001B[0m\u001B[0margs\u001B[0m\u001B[0;34m,\u001B[0m \u001B[0;34m**\u001B[0m\u001B[0mkwargs\u001B[0m\u001B[0;34m)\u001B[0m\u001B[0;34m:\u001B[0m\u001B[0;34m\u001B[0m\u001B[0;34m\u001B[0m\u001B[0m\n\u001B[0;32m--> 144\u001B[0;31m         \u001B[0mself\u001B[0m\u001B[0;34m.\u001B[0m\u001B[0m_args\u001B[0m\u001B[0;34m[\u001B[0m\u001B[0;36m0\u001B[0m\u001B[0;34m]\u001B[0m\u001B[0;34m.\u001B[0m\u001B[0mdo_wait_suspend\u001B[0m\u001B[0;34m(\u001B[0m\u001B[0;34m*\u001B[0m\u001B[0margs\u001B[0m\u001B[0;34m,\u001B[0m \u001B[0;34m**\u001B[0m\u001B[0mkwargs\u001B[0m\u001B[0;34m)\u001B[0m\u001B[0;34m\u001B[0m\u001B[0;34m\u001B[0m\u001B[0m\n\u001B[0m\u001B[1;32m    145\u001B[0m \u001B[0;34m\u001B[0m\u001B[0m\n\u001B[1;32m    146\u001B[0m     \u001B[0;31m# IFDEF CYTHON\u001B[0m\u001B[0;34m\u001B[0m\u001B[0;34m\u001B[0m\u001B[0m\n",
      "\u001B[0;32m/snap/pycharm-professional/375/plugins/python/helpers/pydev/pydevd.py\u001B[0m in \u001B[0;36mdo_wait_suspend\u001B[0;34m(self, thread, frame, event, arg, send_suspend_message, is_unhandled_exception)\u001B[0m\n\u001B[1;32m   1158\u001B[0m \u001B[0;34m\u001B[0m\u001B[0m\n\u001B[1;32m   1159\u001B[0m         \u001B[0;32mwith\u001B[0m \u001B[0mself\u001B[0m\u001B[0;34m.\u001B[0m\u001B[0m_threads_suspended_single_notification\u001B[0m\u001B[0;34m.\u001B[0m\u001B[0mnotify_thread_suspended\u001B[0m\u001B[0;34m(\u001B[0m\u001B[0mthread_id\u001B[0m\u001B[0;34m,\u001B[0m \u001B[0mstop_reason\u001B[0m\u001B[0;34m)\u001B[0m\u001B[0;34m:\u001B[0m\u001B[0;34m\u001B[0m\u001B[0;34m\u001B[0m\u001B[0m\n\u001B[0;32m-> 1160\u001B[0;31m             \u001B[0mself\u001B[0m\u001B[0;34m.\u001B[0m\u001B[0m_do_wait_suspend\u001B[0m\u001B[0;34m(\u001B[0m\u001B[0mthread\u001B[0m\u001B[0;34m,\u001B[0m \u001B[0mframe\u001B[0m\u001B[0;34m,\u001B[0m \u001B[0mevent\u001B[0m\u001B[0;34m,\u001B[0m \u001B[0marg\u001B[0m\u001B[0;34m,\u001B[0m \u001B[0msuspend_type\u001B[0m\u001B[0;34m,\u001B[0m \u001B[0mfrom_this_thread\u001B[0m\u001B[0;34m)\u001B[0m\u001B[0;34m\u001B[0m\u001B[0;34m\u001B[0m\u001B[0m\n\u001B[0m\u001B[1;32m   1161\u001B[0m \u001B[0;34m\u001B[0m\u001B[0m\n\u001B[1;32m   1162\u001B[0m     \u001B[0;32mdef\u001B[0m \u001B[0m_do_wait_suspend\u001B[0m\u001B[0;34m(\u001B[0m\u001B[0mself\u001B[0m\u001B[0;34m,\u001B[0m \u001B[0mthread\u001B[0m\u001B[0;34m,\u001B[0m \u001B[0mframe\u001B[0m\u001B[0;34m,\u001B[0m \u001B[0mevent\u001B[0m\u001B[0;34m,\u001B[0m \u001B[0marg\u001B[0m\u001B[0;34m,\u001B[0m \u001B[0msuspend_type\u001B[0m\u001B[0;34m,\u001B[0m \u001B[0mfrom_this_thread\u001B[0m\u001B[0;34m)\u001B[0m\u001B[0;34m:\u001B[0m\u001B[0;34m\u001B[0m\u001B[0;34m\u001B[0m\u001B[0m\n",
      "\u001B[0;32m/snap/pycharm-professional/375/plugins/python/helpers/pydev/pydevd.py\u001B[0m in \u001B[0;36m_do_wait_suspend\u001B[0;34m(self, thread, frame, event, arg, suspend_type, from_this_thread)\u001B[0m\n\u001B[1;32m   1173\u001B[0m \u001B[0;34m\u001B[0m\u001B[0m\n\u001B[1;32m   1174\u001B[0m                 \u001B[0mself\u001B[0m\u001B[0;34m.\u001B[0m\u001B[0mprocess_internal_commands\u001B[0m\u001B[0;34m(\u001B[0m\u001B[0;34m)\u001B[0m\u001B[0;34m\u001B[0m\u001B[0;34m\u001B[0m\u001B[0m\n\u001B[0;32m-> 1175\u001B[0;31m                 \u001B[0mtime\u001B[0m\u001B[0;34m.\u001B[0m\u001B[0msleep\u001B[0m\u001B[0;34m(\u001B[0m\u001B[0;36m0.01\u001B[0m\u001B[0;34m)\u001B[0m\u001B[0;34m\u001B[0m\u001B[0;34m\u001B[0m\u001B[0m\n\u001B[0m\u001B[1;32m   1176\u001B[0m \u001B[0;34m\u001B[0m\u001B[0m\n\u001B[1;32m   1177\u001B[0m         \u001B[0mself\u001B[0m\u001B[0;34m.\u001B[0m\u001B[0mcancel_async_evaluation\u001B[0m\u001B[0;34m(\u001B[0m\u001B[0mget_current_thread_id\u001B[0m\u001B[0;34m(\u001B[0m\u001B[0mthread\u001B[0m\u001B[0;34m)\u001B[0m\u001B[0;34m,\u001B[0m \u001B[0mstr\u001B[0m\u001B[0;34m(\u001B[0m\u001B[0mid\u001B[0m\u001B[0;34m(\u001B[0m\u001B[0mframe\u001B[0m\u001B[0;34m)\u001B[0m\u001B[0;34m)\u001B[0m\u001B[0;34m)\u001B[0m\u001B[0;34m\u001B[0m\u001B[0;34m\u001B[0m\u001B[0m\n",
      "\u001B[0;31mKeyboardInterrupt\u001B[0m: "
     ]
    }
   ],
   "source": [
    "api = wandb.Api()\n",
    "entity, project = \"wwjbrugger\", \"Test_NGSR_12_05\"\n",
    "# Example: January 1st, 2024\n",
    "\n",
    "# created_at (str): ISO timestamp when the run was started\n",
    "runs = api.runs(entity + \"/\" + project, )\n",
    "\n",
    "means_sim = []\n",
    "stds_sim = []\n",
    "means_states = []\n",
    "stds_states = []\n",
    "experiment_name = []\n",
    "not_found = []\n",
    "for run in tqdm(runs):\n",
    "    # .summary contains output keys/values for\n",
    "    # metrics such as accuracy.\n",
    "    #  We call ._json_dict to omit large files\n",
    "    # result_dict = run.summary._json_dict\n",
    "    config_dict = {k: v for k, v in run.config.items() if not k.startswith(\"_\")}\n",
    "    result_dict = run.summary._json_dict\n",
    "    if 'sim' in result_dict:\n",
    "        if np.any(np.array(result_dict[\"sim\"]) < 0):\n",
    "            print('Hello ')\n",
    "        t = np.array(result_dict[\"sim\"])\n",
    "        means_sim.append(np.mean(result_dict[\"sim\"]))\n",
    "        stds_sim.append(np.std(result_dict[\"sim\"]))\n",
    "        means_states.append(np.mean(result_dict[\"states\"]))\n",
    "        stds_states.append(np.std(result_dict[\"states\"]))\n",
    "        experiment_name.append(config_dict['experiment_name'])\n",
    "        not_found.append(500 - len(result_dict[\"states\"])) \n",
    "    else: \n",
    "        print(f\"{experiment_name.append(config_dict['experiment_name'])} no sim object\")\n",
    "print('end')"
   ],
   "metadata": {
    "collapsed": false,
    "ExecuteTime": {
     "start_time": "2024-05-12T21:05:03.631897420Z"
    }
   },
   "id": "4264ff0825ddc05c"
  },
  {
   "cell_type": "code",
   "execution_count": 4,
   "outputs": [
    {
     "name": "stdout",
     "output_type": "stream",
     "text": [
      "test_model__neural_net__data_grammar_8_run_1__TextTransformer__Transformer_Encoder_String125__Endgame__                  sim: 19.17      states: 57.0       not_found: 16\n",
      "test_model__neural_net__data_grammar_8_run_1__TextTransformer__EquationEncoderDummy500__Endgame__                        sim: 23.87      states: 77.0       not_found: 14\n",
      "test_model__neural_net__data_grammar_8_run_1__MeasurementEncoderPicture__Transformer_Encoder_String5__Endgame__          sim: 25.33      states: 68.0       not_found: 10\n",
      "test_model__neural_net__data_grammar_8_run_1__DatasetTransformer__Transformer_Encoder_String5__Endgame__                 sim: 26.25      states: 74.0       not_found: 12\n",
      "test_model__neural_net__data_grammar_8_run_1__DatasetTransformer__Transformer_Encoder_String500__Endgame__               sim: 28.11      states: 76.0       not_found: 11\n",
      "test_model__neural_net__data_grammar_8_run_1__MeasurementEncoderPicture__Transformer_Encoder_String500__Endgame__        sim: 28.37      states: 90.0       not_found: 14\n",
      "test_model__neural_net__data_grammar_8_run_1__LSTM_Measurement_Encoder__Transformer_Encoder_String250__Endgame__         sim: 28.43      states: 78.0       not_found: 11\n",
      "test_model__grammar                                                                                                      sim: 29.11      states: 92.0       not_found: 9\n",
      "test_model__neural_net__data_grammar_8_run_1__TextTransformer__Transformer_Encoder_String250__Endgame__                  sim: 30.13      states: 90.0       not_found: 13\n",
      "test_model__uniform                                                                                                      sim: 30.41      states: 85.0       not_found: 13\n",
      "test_model__neural_net__data_grammar_8_run_1__DatasetTransformer__Transformer_Encoder_String250__Endgame__               sim: 31.39      states: 82.0       not_found: 19\n",
      "test_model__neural_net__data_grammar_8_run_1__LSTM_Measurement_Encoder__Transformer_Encoder_String500__Endgame__         sim: 31.89      states: 96.0       not_found: 9\n",
      "test_model__neural_net__data_grammar_8_run_1__MeasurementEncoderPicture__Transformer_Encoder_String125__Endgame__        sim: 32.07      states: 95.0       not_found: 17\n",
      "test_model__neural_net__data_grammar_8_run_1__MeasurementEncoderPicture__EquationEncoderDummy500__Endgame__              sim: 32.68      states: 93.0       not_found: 14\n",
      "test_model__neural_net__data_grammar_8_run_1__MLP_Measurement_Encoder__EquationEncoderDummy500__Endgame__                sim: 33.0       states: 102.0      not_found: 12\n",
      "test_model__neural_net__data_grammar_8_run_1__LSTM_Measurement_Encoder__EquationEncoderDummy500__Endgame__               sim: 33.45      states: 99.0       not_found: 11\n",
      "test_model__neural_net__data_grammar_8_run_1__LSTM_Measurement_Encoder__Transformer_Encoder_String50__Endgame__          sim: 34.51      states: 98.0       not_found: 15\n",
      "test_model__neural_net__data_grammar_8_run_1__MeasurementEncoderDummy__EquationEncoderDummy500__Endgame__                sim: 35.2       states: 96.0       not_found: 9\n",
      "test_model__neural_net__data_grammar_8_run_1__DatasetTransformer__EquationEncoderDummy500__Endgame__                     sim: 35.36      states: 98.0       not_found: 16\n",
      "test_model__neural_net__data_grammar_8_run_1__Bi_LSTM_Measurement_Encoder__Transformer_Encoder_String250__Endgame__      sim: 35.42      states: 92.0       not_found: 12\n",
      "test_model__neural_net__data_grammar_8_run_1__DatasetTransformer__Transformer_Encoder_String125__Endgame__               sim: 35.73      states: 116.0      not_found: 16\n",
      "test_model__neural_net__data_grammar_8_run_1__LSTM_Measurement_Encoder__Transformer_Encoder_String125__Endgame__         sim: 36.27      states: 98.0       not_found: 15\n",
      "test_model__neural_net__data_grammar_8_run_1__DatasetTransformer__Transformer_Encoder_String50__Endgame__                sim: 36.27      states: 96.0       not_found: 14\n",
      "test_model__neural_net__data_grammar_8_run_1__MeasurementEncoderDummy__Transformer_Encoder_String5__Endgame__            sim: 38.91      states: 102.0      not_found: 14\n",
      "test_model__neural_net__data_grammar_8_run_1__MeasurementEncoderPicture__Transformer_Encoder_String250__Endgame__        sim: 39.48      states: 103.0      not_found: 12\n",
      "test_model__neural_net__data_grammar_8_run_1__Bi_LSTM_Measurement_Encoder__Transformer_Encoder_String500__Endgame__      sim: 40.64      states: 108.0      not_found: 15\n",
      "test_model__neural_net__data_grammar_8_run_1__Bi_LSTM_Measurement_Encoder__Transformer_Encoder_String50__Endgame__       sim: 41.29      states: 118.0      not_found: 7\n",
      "test_model__neural_net__data_grammar_8_run_1__TextTransformer__Transformer_Encoder_String50__Endgame__                   sim: 41.83      states: 112.0      not_found: 9\n",
      "test_model__neural_net__data_grammar_8_run_1__TextTransformer__Transformer_Encoder_String500__Endgame__                  sim: 43.14      states: 112.0      not_found: 14\n",
      "test_model__neural_net__data_grammar_8_run_1__Bi_LSTM_Measurement_Encoder__EquationEncoderDummy500__Endgame__            sim: 43.86      states: 114.0      not_found: 14\n",
      "test_model__neural_net__data_grammar_8_run_1__MLP_Measurement_Encoder__Transformer_Encoder_String500__Endgame__          sim: 45.15      states: 117.0      not_found: 9\n",
      "test_model__neural_net__data_grammar_8_run_1__MeasurementEncoderDummy__Transformer_Encoder_String500__Endgame__          sim: 46.43      states: 131.0      not_found: 8\n",
      "test_model__neural_net__data_grammar_8_run_1__MLP_Measurement_Encoder__Transformer_Encoder_String50__Endgame__           sim: 46.96      states: 117.0      not_found: 15\n",
      "test_model__neural_net__data_grammar_8_run_1__TextTransformer__Transformer_Encoder_String5__Endgame__                    sim: 49.59      states: 122.0      not_found: 19\n",
      "test_model__neural_net__data_grammar_8_run_1__MLP_Measurement_Encoder__Transformer_Encoder_String250__Endgame__          sim: 51.27      states: 136.0      not_found: 15\n",
      "test_model__neural_net__data_grammar_8_run_1__MeasurementEncoderPicture__Transformer_Encoder_String50__Endgame__         sim: 53.67      states: 136.0      not_found: 10\n",
      "test_model__neural_net__data_grammar_8_run_1__MeasurementEncoderDummy__Transformer_Encoder_String250__Endgame__          sim: 219.16     states: 406.0      not_found: 13\n",
      "test_model__neural_net__data_grammar_8_run_1__Bi_LSTM_Measurement_Encoder__Transformer_Encoder_String125__Endgame__      sim: 240.39     states: 445.0      not_found: 9\n",
      "test_model__neural_net__data_grammar_8_run_1__LSTM_Measurement_Encoder__Transformer_Encoder_String5__Endgame__           sim: 274.96     states: 521.0      not_found: 12\n",
      "test_model__neural_net__data_grammar_8_run_1__MLP_Measurement_Encoder__Transformer_Encoder_String5__Endgame__            sim: 289.87     states: 534.0      not_found: 15\n",
      "test_model__neural_net__data_grammar_8_run_1__Bi_LSTM_Measurement_Encoder__Transformer_Encoder_String5__Endgame__        sim: 318.04     states: 585.0      not_found: 16\n",
      "test_model__neural_net__data_grammar_8_run_1__MeasurementEncoderDummy__Transformer_Encoder_String125__Endgame__          sim: 461.31     states: 916.0      not_found: 12\n"
     ]
    }
   ],
   "source": [
    "arg_sort = np.argsort(means_sim)\n",
    "for i in arg_sort: \n",
    "    print(f\"{experiment_name[i]:<120} sim: {np.round(means_sim[i],2):<10} states: {np.round(means_states[i]):<10} not_found: {not_found[i]}\"   )"
   ],
   "metadata": {
    "collapsed": false,
    "ExecuteTime": {
     "end_time": "2024-05-12T20:52:10.393638659Z",
     "start_time": "2024-05-12T20:52:10.302822955Z"
    }
   },
   "id": "ee9e2627e976d4ca"
  }
 ],
 "metadata": {
  "kernelspec": {
   "display_name": "Python 3",
   "language": "python",
   "name": "python3"
  },
  "language_info": {
   "codemirror_mode": {
    "name": "ipython",
    "version": 2
   },
   "file_extension": ".py",
   "mimetype": "text/x-python",
   "name": "python",
   "nbconvert_exporter": "python",
   "pygments_lexer": "ipython2",
   "version": "2.7.6"
  }
 },
 "nbformat": 4,
 "nbformat_minor": 5
}

{
 "cells": [
  {
   "cell_type": "code",
   "execution_count": 30,
   "id": "initial_id",
   "metadata": {
    "collapsed": true,
    "ExecuteTime": {
     "end_time": "2024-05-13T14:52:50.935415057Z",
     "start_time": "2024-05-13T14:52:50.894193559Z"
    }
   },
   "outputs": [],
   "source": [
    "import numpy as np\n",
    "import pandas as pd\n",
    "import wandb\n",
    "import seaborn as sns\n",
    "import matplotlib.pyplot as plt\n",
    "from tqdm.notebook import trange, tqdm"
   ]
  },
  {
   "cell_type": "code",
   "execution_count": 31,
   "outputs": [
    {
     "data": {
      "text/plain": "  0%|          | 0/44 [00:00<?, ?it/s]",
      "application/vnd.jupyter.widget-view+json": {
       "version_major": 2,
       "version_minor": 0,
       "model_id": "535406d02e0c42fe923837b87984eee9"
      }
     },
     "metadata": {},
     "output_type": "display_data"
    },
    {
     "name": "stdout",
     "output_type": "stream",
     "text": [
      "test_model__neural_net__data_grammar_8_run_1__TextTransformer__Transformer_Encoder_String5__Endgame__ no sim object\n",
      "test_model__neural_net__data_grammar_8_run_1__TextTransformer__EquationEncoderDummy500__Endgame__ no sim object\n",
      "end\n"
     ]
    }
   ],
   "source": [
    "api = wandb.Api()\n",
    "entity, project = \"wwjbrugger\", \"Test_NGSR_12_05\"   # Test_NGSR_10_05_21_ckpt  Test_NGSR_12_05\n",
    "# Example: January 1st, 2024\n",
    "\n",
    "# created_at (str): ISO timestamp when the run was started\n",
    "runs = api.runs(entity + \"/\" + project, )\n",
    "\n",
    "means_sim = []\n",
    "stds_sim = []\n",
    "means_states = []\n",
    "stds_states = []\n",
    "experiment_name = []\n",
    "not_found = []\n",
    "for run in tqdm(runs):\n",
    "    # .summary contains output keys/values for\n",
    "    # metrics such as accuracy.\n",
    "    #  We call ._json_dict to omit large files\n",
    "    # result_dict = run.summary._json_dict\n",
    "    config_dict = {k: v for k, v in run.config.items() if not k.startswith(\"_\")}\n",
    "    result_dict = run.summary._json_dict\n",
    "    if 'sim' in result_dict:\n",
    "        if np.any(np.array(result_dict[\"sim\"]) < 0):\n",
    "            print('Hello ')\n",
    "        t = np.array(result_dict[\"sim\"])\n",
    "        means_sim.append(np.median(result_dict[\"sim\"]))\n",
    "        stds_sim.append(np.std(result_dict[\"sim\"]))\n",
    "        means_states.append(np.median(result_dict[\"states\"]))\n",
    "        stds_states.append(np.std(result_dict[\"states\"]))\n",
    "        experiment_name.append(config_dict['experiment_name'])\n",
    "        not_found.append(500 - len(result_dict[\"states\"])) \n",
    "    else: \n",
    "        print(f\"{config_dict['experiment_name']} no sim object\")\n",
    "print('end')"
   ],
   "metadata": {
    "collapsed": false,
    "ExecuteTime": {
     "end_time": "2024-05-13T14:52:52.091715445Z",
     "start_time": "2024-05-13T14:52:50.894499180Z"
    }
   },
   "id": "4264ff0825ddc05c"
  },
  {
   "cell_type": "code",
   "execution_count": 32,
   "outputs": [
    {
     "name": "stdout",
     "output_type": "stream",
     "text": [
      "test_model__neural_net__data_grammar_8_run_1__MeasurementEncoderPicture__EquationEncoderDummy500__Endgame__              sim: 10.5       states: 36.0       not_found: 14\n",
      "test_model__neural_net__data_grammar_8_run_1__DatasetTransformer__Transformer_Encoder_String500__Endgame__               sim: 11.0       states: 37.0       not_found: 15\n",
      "test_model__neural_net__data_grammar_8_run_1__TextTransformer__Transformer_Encoder_String500__Endgame__                  sim: 11.0       states: 28.0       not_found: 14\n",
      "test_model__neural_net__data_grammar_8_run_1__Bi_LSTM_Measurement_Encoder__Transformer_Encoder_String500__Endgame__      sim: 11.0       states: 43.0       not_found: 17\n",
      "test_model__neural_net__data_grammar_8_run_1__Bi_LSTM_Measurement_Encoder__EquationEncoderDummy500__Endgame__            sim: 12.0       states: 44.0       not_found: 9\n",
      "test_model__neural_net__data_grammar_8_run_1__MeasurementEncoderPicture__Transformer_Encoder_String250__Endgame__        sim: 12.0       states: 38.0       not_found: 16\n",
      "test_model__neural_net__data_grammar_8_run_1__LSTM_Measurement_Encoder__EquationEncoderDummy500__Endgame__               sim: 12.0       states: 42.0       not_found: 14\n",
      "test_model__neural_net__data_grammar_8_run_1__MeasurementEncoderPicture__Transformer_Encoder_String50__Endgame__         sim: 12.0       states: 39.0       not_found: 12\n",
      "test_model__neural_net__data_grammar_8_run_1__LSTM_Measurement_Encoder__Transformer_Encoder_String250__Endgame__         sim: 12.0       states: 41.0       not_found: 14\n",
      "test_model__neural_net__data_grammar_8_run_1__MeasurementEncoderPicture__Transformer_Encoder_String125__Endgame__        sim: 12.0       states: 39.0       not_found: 11\n",
      "test_model__neural_net__data_grammar_8_run_1__DatasetTransformer__EquationEncoderDummy500__Endgame__                     sim: 13.0       states: 44.0       not_found: 12\n",
      "test_model__neural_net__data_grammar_8_run_1__TextTransformer__Transformer_Encoder_String125__Endgame__                  sim: 13.0       states: 36.0       not_found: 10\n",
      "test_model__neural_net__data_grammar_8_run_1__MeasurementEncoderPicture__Transformer_Encoder_String500__Endgame__        sim: 13.0       states: 45.0       not_found: 13\n",
      "test_model__neural_net__data_grammar_8_run_1__MLP_Measurement_Encoder__EquationEncoderDummy500__Endgame__                sim: 14.0       states: 58.0       not_found: 16\n",
      "test_model__neural_net__data_grammar_8_run_1__LSTM_Measurement_Encoder__Transformer_Encoder_String500__Endgame__         sim: 14.0       states: 43.0       not_found: 9\n",
      "test_model__neural_net__data_grammar_8_run_1__Bi_LSTM_Measurement_Encoder__Transformer_Encoder_String50__Endgame__       sim: 14.0       states: 43.0       not_found: 12\n",
      "test_model__neural_net__data_grammar_8_run_1__DatasetTransformer__Transformer_Encoder_String250__Endgame__               sim: 14.0       states: 43.0       not_found: 19\n",
      "test_model__neural_net__data_grammar_8_run_1__DatasetTransformer__Transformer_Encoder_String125__Endgame__               sim: 15.0       states: 43.0       not_found: 13\n",
      "test_model__neural_net__data_grammar_8_run_1__Bi_LSTM_Measurement_Encoder__Transformer_Encoder_String250__Endgame__      sim: 15.0       states: 46.0       not_found: 11\n",
      "test_model__neural_net__data_grammar_8_run_1__Bi_LSTM_Measurement_Encoder__Transformer_Encoder_String125__Endgame__      sim: 15.0       states: 45.0       not_found: 14\n",
      "test_model__neural_net__data_grammar_8_run_1__TextTransformer__Transformer_Encoder_String50__Endgame__                   sim: 15.0       states: 43.0       not_found: 9\n",
      "test_model__neural_net__data_grammar_8_run_1__LSTM_Measurement_Encoder__Transformer_Encoder_String5__Endgame__           sim: 16.0       states: 28.0       not_found: 13\n",
      "test_model__neural_net__data_grammar_8_run_1__TextTransformer__Transformer_Encoder_String250__Endgame__                  sim: 18.0       states: 43.0       not_found: 19\n",
      "test_model__neural_net__data_grammar_8_run_1__LSTM_Measurement_Encoder__Transformer_Encoder_String125__Endgame__         sim: 18.0       states: 50.0       not_found: 11\n",
      "test_model__neural_net__data_grammar_8_run_1__LSTM_Measurement_Encoder__Transformer_Encoder_String50__Endgame__          sim: 19.0       states: 53.0       not_found: 12\n",
      "test_model__neural_net__data_grammar_8_run_1__MLP_Measurement_Encoder__Transformer_Encoder_String125__Endgame__          sim: 19.0       states: 52.0       not_found: 9\n",
      "test_model__neural_net__data_grammar_8_run_1__MLP_Measurement_Encoder__Transformer_Encoder_String500__Endgame__          sim: 20.0       states: 60.0       not_found: 7\n",
      "test_model__neural_net__data_grammar_8_run_1__MLP_Measurement_Encoder__Transformer_Encoder_String50__Endgame__           sim: 20.0       states: 55.0       not_found: 15\n",
      "test_model__neural_net__data_grammar_8_run_1__DatasetTransformer__Transformer_Encoder_String5__Endgame__                 sim: 20.0       states: 39.0       not_found: 12\n",
      "test_model__neural_net__data_grammar_8_run_1__DatasetTransformer__Transformer_Encoder_String50__Endgame__                sim: 20.5       states: 54.0       not_found: 10\n",
      "test_model__neural_net__data_grammar_8_run_1__MLP_Measurement_Encoder__Transformer_Encoder_String250__Endgame__          sim: 21.0       states: 58.0       not_found: 15\n",
      "test_model__neural_net__data_grammar_8_run_1__MeasurementEncoderDummy__Transformer_Encoder_String500__Endgame__          sim: 23.0       states: 70.0       not_found: 8\n",
      "test_model__neural_net__data_grammar_8_run_1__MeasurementEncoderDummy__Transformer_Encoder_String50__Endgame__           sim: 24.0       states: 62.0       not_found: 15\n",
      "test_model__neural_net__data_grammar_8_run_1__MeasurementEncoderDummy__EquationEncoderDummy500__Endgame__                sim: 24.0       states: 66.0       not_found: 16\n",
      "test_model__uniform                                                                                                      sim: 25.0       states: 61.0       not_found: 14\n",
      "test_model__neural_net__data_grammar_8_run_1__MeasurementEncoderDummy__Transformer_Encoder_String125__Endgame__          sim: 25.0       states: 68.0       not_found: 14\n",
      "test_model__grammar                                                                                                      sim: 25.0       states: 60.0       not_found: 15\n",
      "test_model__neural_net__data_grammar_8_run_1__MeasurementEncoderDummy__Transformer_Encoder_String5__Endgame__            sim: 27.0       states: 50.0       not_found: 9\n",
      "test_model__neural_net__data_grammar_8_run_1__Bi_LSTM_Measurement_Encoder__Transformer_Encoder_String5__Endgame__        sim: 29.0       states: 51.0       not_found: 16\n",
      "test_model__neural_net__data_grammar_8_run_1__MLP_Measurement_Encoder__Transformer_Encoder_String5__Endgame__            sim: 30.0       states: 57.0       not_found: 15\n",
      "test_model__neural_net__data_grammar_8_run_1__MeasurementEncoderDummy__Transformer_Encoder_String250__Endgame__          sim: 30.0       states: 80.0       not_found: 9\n",
      "test_model__neural_net__data_grammar_8_run_1__MeasurementEncoderPicture__Transformer_Encoder_String5__Endgame__          sim: 40.0       states: 116.0      not_found: 12\n"
     ]
    }
   ],
   "source": [
    "arg_sort = np.argsort(means_sim)\n",
    "for i in arg_sort: \n",
    "    print(f\"{experiment_name[i]:<120} sim: {np.round(means_sim[i],2):<10} states: {np.round(means_states[i]):<10} not_found: {not_found[i]}\"   )"
   ],
   "metadata": {
    "collapsed": false,
    "ExecuteTime": {
     "end_time": "2024-05-13T14:52:52.128178253Z",
     "start_time": "2024-05-13T14:52:52.086283823Z"
    }
   },
   "id": "ee9e2627e976d4ca"
  }
 ],
 "metadata": {
  "kernelspec": {
   "display_name": "Python 3",
   "language": "python",
   "name": "python3"
  },
  "language_info": {
   "codemirror_mode": {
    "name": "ipython",
    "version": 2
   },
   "file_extension": ".py",
   "mimetype": "text/x-python",
   "name": "python",
   "nbconvert_exporter": "python",
   "pygments_lexer": "ipython2",
   "version": "2.7.6"
  }
 },
 "nbformat": 4,
 "nbformat_minor": 5
}

{
 "cells": [
  {
   "cell_type": "code",
   "execution_count": null,
   "id": "initial_id",
   "metadata": {
    "collapsed": true
   },
   "outputs": [],
   "source": [
    "from pathlib import Path\n",
    "import pandas as pd\n",
    "import matplotlib.pyplot as plt\n",
    "import wandb\n",
    "\n",
    "\n",
    "api = wandb.Api()\n",
    "entity, project = \"wwjbrugger\", \"22_03_only_dataset_encoder\"\n",
    "runs = api.runs(entity + \"/\" + project)"
   ]
  },
  {
   "cell_type": "code",
   "execution_count": null,
   "outputs": [],
   "source": [
    "results={}\n",
    "for run in runs:\n",
    "    #result_summary = run.summary._json_dict['experiment_name']\n",
    "    seed = run.config['seed']\n",
    "    experiment_name = run.config['experiment_name']\n",
    "    result_dict = run.history(keys=['Test Contrastive loss', 'iteration'])\n",
    "    if not experiment_name in results:\n",
    "        results[experiment_name] = {}\n",
    "    results[experiment_name][seed] = result_dict\n"
   ],
   "metadata": {
    "collapsed": false
   },
   "id": "c831b7bebd923804"
  },
  {
   "cell_type": "code",
   "execution_count": null,
   "outputs": [],
   "source": [
    "import numpy as np\n",
    "experiment_name = {\n",
    "    'only_dataset_encoder__neural_net__data_grammar_1_run_2__Bi_LSTM_Measurement_Encoder__abs_max_y__Endgame__10__20': 'lin. Bi-LSTM',\n",
    "    'only_dataset_encoder__neural_net__data_grammar_1_run_2__DatasetTransformer__abs_max_y__Endgame__10__20': 'Dataset Transformer',\n",
    "    'only_dataset_encoder__neural_net__data_grammar_1_run_2__DatasetTransformer__abs_max_y__lin_transform__Endgame__10__20': 'lin. Dataset Transformer',\n",
    "    'only_dataset_encoder__neural_net__data_grammar_1_run_2__MLP_Measurement_Encoder__abs_max_y__lin_transform__Endgame__10__20': 'lin. MLP',\n",
    "    'only_dataset_encoder__neural_net__data_grammar_1_run_2__MeasurementEncoderPicture__abs_max_y__lin_transform__Endgame__10__20': 'lin. Image',\n",
    "    'only_dataset_encoder__neural_net__data_grammar_1_run_2__TextTransformer__abs_max_y__lin_transform__Endgame__10__20': 'lin. Text Transformer'\n",
    "}\n",
    "plt.rcParams.update({\n",
    "    # 'text.usetex': True,\n",
    "    # 'font.family': 'Helvetica',\n",
    "    'axes.labelsize': 18,\n",
    "    'text.latex.preamble': r'usepackage{amsmath}',\n",
    "    'axes.titlesize': 'x-large',\n",
    "    'xtick.labelsize': 14,\n",
    "    'ytick.labelsize': 14,\n",
    "    'legend.fontsize': 14,\n",
    "    'lines.markersize':10\n",
    "    \n",
    "})\n",
    "fig = plt.figure(figsize=(9, 6))\n",
    "ax = fig.add_subplot(111)\n",
    "markers = ['.', \"o\", \"v\",\"^\",\"1\", \"s\",\"p\"]\n",
    "i = 0\n",
    "for wandb_name, experiment in experiment_name.items():\n",
    "    test_contrastive_loss =  []\n",
    "    for seed, d in results[wandb_name].items():\n",
    "        test_contrastive_loss.append(d.loc[:,'Test Contrastive loss'].to_numpy())\n",
    "        iterations = d.loc[:,'iteration'].to_numpy()\n",
    "    test_contrastive_loss = np.array(test_contrastive_loss)\n",
    "    mean = test_contrastive_loss.mean(axis=0)\n",
    "    std = test_contrastive_loss.std(axis=0)\n",
    "    ax.errorbar(x=iterations, y=mean,yerr=std, label=experiment, marker=markers[i] )\n",
    "    i+=1\n",
    "ax.set_xlabel('Iteration')\n",
    "ax.set_ylabel('Contrastive Loss')\n",
    "ax.legend(loc='upper center', bbox_to_anchor=(0.5, 1.16),\n",
    "          ncol=2, fancybox=True, shadow=True)\n",
    "ax.spines['top'].set_visible(False)\n",
    "ax.spines['right'].set_visible(False)\n",
    "plt.show()\n",
    "fig.savefig('./ContrastiveLoss.pdf')\n",
    "\n",
    "# \n",
    "# \n",
    "# \n",
    "# \n",
    "# plt.show()"
   ],
   "metadata": {
    "collapsed": false
   },
   "id": "5fd272d4750e26e6"
  }
 ],
 "metadata": {
  "kernelspec": {
   "display_name": "Python 3",
   "language": "python",
   "name": "python3"
  },
  "language_info": {
   "codemirror_mode": {
    "name": "ipython",
    "version": 2
   },
   "file_extension": ".py",
   "mimetype": "text/x-python",
   "name": "python",
   "nbconvert_exporter": "python",
   "pygments_lexer": "ipython2",
   "version": "2.7.6"
  }
 },
 "nbformat": 4,
 "nbformat_minor": 5
}

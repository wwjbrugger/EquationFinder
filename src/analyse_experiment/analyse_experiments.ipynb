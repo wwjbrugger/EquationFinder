{
 "cells": [
  {
   "cell_type": "code",
   "execution_count": 1,
   "id": "initial_id",
   "metadata": {
    "collapsed": true,
    "ExecuteTime": {
     "end_time": "2024-02-23T19:58:41.688213484Z",
     "start_time": "2024-02-23T19:58:26.442721533Z"
    }
   },
   "outputs": [
    {
     "name": "stdout",
     "output_type": "stream",
     "text": [
      "'num simulation to perfect fit' their is a problem with neural_net__nguyen_9_500 \n",
      "'num simulation to perfect fit' their is a problem with neural_net__nguyen_9_500 \n",
      "'num simulation to perfect fit' their is a problem with grammar__nguyen_4 \n",
      "'num simulation to perfect fit' their is a problem with grammar__nguyen_4 \n",
      "'num simulation to perfect fit' their is a problem with grammar__nguyen_4 \n",
      "'num simulation to perfect fit' their is a problem with grammar__nguyen_4 \n",
      "'num simulation to perfect fit' their is a problem with grammar__nguyen_4 \n",
      "'num simulation to perfect fit' their is a problem with neural_net__nguyen_3_500 \n",
      "'num simulation to perfect fit' their is a problem with neural_net__nguyen_3_500 \n",
      "'num simulation to perfect fit' their is a problem with neural_net__nguyen_3_500 \n",
      "'num simulation to perfect fit' their is a problem with neural_net__nguyen_4_1000 \n",
      "'num simulation to perfect fit' their is a problem with neural_net__nguyen_4_1000 \n",
      "'num simulation to perfect fit' their is a problem with neural_net__nguyen_4_1000 \n",
      "'num simulation to perfect fit' their is a problem with neural_net__nguyen_4_1000 \n",
      "'num simulation to perfect fit' their is a problem with neural_net__nguyen_4_1000 \n",
      "'num simulation to perfect fit' their is a problem with neural_net__nguyen_4_1000 \n",
      "'num simulation to perfect fit' their is a problem with neural_net__nguyen_4_1000 \n",
      "'num simulation to perfect fit' their is a problem with neural_net__nguyen_4_1000 \n",
      "'num simulation to perfect fit' their is a problem with neural_net__nguyen_4_1000 \n",
      "'num simulation to perfect fit' their is a problem with neural_net__nguyen_4_1000 \n",
      "'num simulation to perfect fit' their is a problem with neural_net__nguyen_4_1000 \n",
      "'num simulation to perfect fit' their is a problem with neural_net__nguyen_4_1000 \n",
      "'num simulation to perfect fit' their is a problem with neural_net__nguyen_4_1000 \n",
      "'num simulation to perfect fit' their is a problem with neural_net__nguyen_4_1000 \n",
      "'num simulation to perfect fit' their is a problem with neural_net__nguyen_4_1000 \n",
      "'num simulation to perfect fit' their is a problem with neural_net__nguyen_4_1000 \n",
      "'num simulation to perfect fit' their is a problem with neural_net__nguyen_4_1000 \n",
      "'num simulation to perfect fit' their is a problem with neural_net__nguyen_4_1000 \n",
      "'num simulation to perfect fit' their is a problem with neural_net__nguyen_4_1000 \n",
      "'num simulation to perfect fit' their is a problem with neural_net__nguyen_4_1000 \n",
      "'num simulation to perfect fit' their is a problem with grammar__nguyen_6 \n",
      "'num simulation to perfect fit' their is a problem with grammar__nguyen_6 \n",
      "'num simulation to perfect fit' their is a problem with grammar__nguyen_6 \n",
      "'num simulation to perfect fit' their is a problem with grammar__nguyen_6 \n",
      "'num simulation to perfect fit' their is a problem with grammar__nguyen_6 \n",
      "'num simulation to perfect fit' their is a problem with grammar__nguyen_6 \n",
      "'num simulation to perfect fit' their is a problem with grammar__nguyen_6 \n",
      "'num simulation to perfect fit' their is a problem with grammar__nguyen_6 \n",
      "'num simulation to perfect fit' their is a problem with grammar__nguyen_6 \n",
      "'num simulation to perfect fit' their is a problem with grammar__nguyen_6 \n",
      "'num simulation to perfect fit' their is a problem with neural_net__nguyen_1_500 \n",
      "end\n"
     ]
    }
   ],
   "source": [
    "import pandas as pd\n",
    "import wandb\n",
    "from datetime import datetime\n",
    "import numpy as np\n",
    "class Results():\n",
    "    def __init__(self):\n",
    "        columns = [f\"nguyen_{i}\" for i in range(1,13,1)]\n",
    "        self.results_nn_500 =  pd.DataFrame( index=list( range(1,21,1)), columns=columns)\n",
    "        self.results_nn_1000 = pd.DataFrame( index=list( range(1,21,1)), columns=columns)\n",
    "        self.results_grammar = pd.DataFrame( index=list( range(1,21,1)), columns=columns)\n",
    "        self.results_uniform =pd.DataFrame( index=list( range(1,21,1)), columns=columns)\n",
    "        \n",
    "\n",
    "    def fill_results(self, config, summary):\n",
    " \n",
    "        seed= config['seed']\n",
    "        prior = config['prior_source']\n",
    "        path_to_complete_model = config['path_to_complete_model']\n",
    "        num_simulation_to_perfect_fit = summary['num simulation to perfect fit']\n",
    "        num_states_to_perfect_fit = summary['num_states_to_perfect_fit_test']\n",
    "        nguyen_number = config['data_path'].split('/')[1]\n",
    "\n",
    "        if prior == 'uniform':\n",
    "            self.results_uniform.loc[seed,nguyen_number]= num_states_to_perfect_fit\n",
    "\n",
    "        elif prior == 'grammar':\n",
    "            self.results_grammar.loc[seed,nguyen_number]= num_states_to_perfect_fit\n",
    "\n",
    "        elif prior == 'neural_net' and path_to_complete_model=='saved_models/run_1/AlphaZero/DatasetTransformer_lin_1000/1/tf_ckpts/ckpt-138':\n",
    "            self.results_nn_1000.loc[seed,nguyen_number]= num_states_to_perfect_fit\n",
    "\n",
    "        elif prior == 'neural_net' and path_to_complete_model=='saved_models/run_1/AlphaZero/DatasetTransformer_lin_500/1/tf_ckpts/ckpt-234':\n",
    "            self.results_nn_500.loc[seed,nguyen_number]= num_states_to_perfect_fit\n",
    "\n",
    "api = wandb.Api()\n",
    "entity, project = \"jgu-wandb\", \"neural_guided_symbolic_regression\"\n",
    "  # Example: January 1st, 2024\n",
    "\n",
    "#created_at (str): ISO timestamp when the run was started\n",
    "runs = api.runs(entity + \"/\" + project, filters={\"tags\": {\"$in\": [\"current_experiment\"]}})\n",
    "\n",
    "summary_list, config_list, name_list = [], [], []\n",
    "results_obj = Results()\n",
    "\n",
    "for run in runs:\n",
    "    # .summary contains output keys/values for\n",
    "    # metrics such as accuracy.\n",
    "    #  We call ._json_dict to omit large files\n",
    "    result_dict = run.summary._json_dict\n",
    "    try:\n",
    "        summary_dict = run.summary._json_dict\n",
    "        config_dict = {k: v for k, v in run.config.items() if not k.startswith(\"_\")}\n",
    "        results_obj.fill_results(config_dict, summary_dict)\n",
    "    except Exception as e:\n",
    "         print(f\"{e} their is a problem with {run.name} \") \n",
    "\n",
    "print('end')\n"
   ]
  },
  {
   "cell_type": "code",
   "execution_count": 3,
   "outputs": [
    {
     "data": {
      "text/plain": "   nguyen_1 nguyen_2 nguyen_3 nguyen_4 nguyen_5 nguyen_6 nguyen_7 nguyen_8  \\\n1     13139    18225   115056   288144    19199      NaN     5062    11553   \n2      5043    25526    27876   223445     3606    92638      938    18663   \n3     67033    13065     5933    24389    12480   107546     2758     9695   \n4      1907    11747    25920   101049    19520      NaN     4396    13537   \n5     15469     1389     9353      NaN    20774   110690    12009    12289   \n6      8727    17018    11942   332659    16443      NaN     9313    16673   \n7      7783    12674    33132   282819     3877      NaN      785    18678   \n8      4880    24512    15271   187475    14222   121885     6300     5732   \n9      3938     4455     6431      NaN    16096   114801     3933     7873   \n10     5861     8135    10006    31643    12394      NaN     4193    34134   \n11     6808    15179    31917      NaN    19217    98317     6807    14359   \n12     6836     3481     6360   280609    21474      NaN    10683     7695   \n13     1490     9661    59903   144439     3627    52528     7507     7993   \n14     5851     9996    23592      NaN     7434      NaN     9106    21644   \n15     4754     6204     9003    76128     4478      NaN     4040    23569   \n16     8934    19454    21425    50043    26502      NaN     3909     9129   \n17    61541     3998     5720    56825    11222      NaN     2619    14131   \n18     4201     8689    15182   230315     8096    16991     3321     5498   \n19     2034    26328    53114    66321    21825   109471     8193     8742   \n20    69308    12454    24070      NaN     2864   180619     4596    11087   \n\n   nguyen_9 nguyen_10 nguyen_11 nguyen_12  \n1     53745     32401     14312     59239  \n2     90008     44410     14377     16338  \n3     97203     21899     16843     20562  \n4     71813     22310     15171     52516  \n5     93450     19765     14547     34766  \n6     78578     56998     14426     31730  \n7    223096      6141     16069     19299  \n8     45245     39741     13858     26022  \n9    140016     59564     15960     55914  \n10   188394     23541     17688     28725  \n11   178096     24411     15059     11841  \n12   101069     22254     13940     47050  \n13    65005     25873     13552     36072  \n14   128753     31675     13283     25467  \n15   247137     37243     14858     13488  \n16    67211      9742     13761     20261  \n17   110585     19274     14637     42501  \n18   135380     14176     14826     32772  \n19   185584     19936     16239     46559  \n20    33328     33225     14206     41076  ",
      "text/html": "<div>\n<style scoped>\n    .dataframe tbody tr th:only-of-type {\n        vertical-align: middle;\n    }\n\n    .dataframe tbody tr th {\n        vertical-align: top;\n    }\n\n    .dataframe thead th {\n        text-align: right;\n    }\n</style>\n<table border=\"1\" class=\"dataframe\">\n  <thead>\n    <tr style=\"text-align: right;\">\n      <th></th>\n      <th>nguyen_1</th>\n      <th>nguyen_2</th>\n      <th>nguyen_3</th>\n      <th>nguyen_4</th>\n      <th>nguyen_5</th>\n      <th>nguyen_6</th>\n      <th>nguyen_7</th>\n      <th>nguyen_8</th>\n      <th>nguyen_9</th>\n      <th>nguyen_10</th>\n      <th>nguyen_11</th>\n      <th>nguyen_12</th>\n    </tr>\n  </thead>\n  <tbody>\n    <tr>\n      <th>1</th>\n      <td>13139</td>\n      <td>18225</td>\n      <td>115056</td>\n      <td>288144</td>\n      <td>19199</td>\n      <td>NaN</td>\n      <td>5062</td>\n      <td>11553</td>\n      <td>53745</td>\n      <td>32401</td>\n      <td>14312</td>\n      <td>59239</td>\n    </tr>\n    <tr>\n      <th>2</th>\n      <td>5043</td>\n      <td>25526</td>\n      <td>27876</td>\n      <td>223445</td>\n      <td>3606</td>\n      <td>92638</td>\n      <td>938</td>\n      <td>18663</td>\n      <td>90008</td>\n      <td>44410</td>\n      <td>14377</td>\n      <td>16338</td>\n    </tr>\n    <tr>\n      <th>3</th>\n      <td>67033</td>\n      <td>13065</td>\n      <td>5933</td>\n      <td>24389</td>\n      <td>12480</td>\n      <td>107546</td>\n      <td>2758</td>\n      <td>9695</td>\n      <td>97203</td>\n      <td>21899</td>\n      <td>16843</td>\n      <td>20562</td>\n    </tr>\n    <tr>\n      <th>4</th>\n      <td>1907</td>\n      <td>11747</td>\n      <td>25920</td>\n      <td>101049</td>\n      <td>19520</td>\n      <td>NaN</td>\n      <td>4396</td>\n      <td>13537</td>\n      <td>71813</td>\n      <td>22310</td>\n      <td>15171</td>\n      <td>52516</td>\n    </tr>\n    <tr>\n      <th>5</th>\n      <td>15469</td>\n      <td>1389</td>\n      <td>9353</td>\n      <td>NaN</td>\n      <td>20774</td>\n      <td>110690</td>\n      <td>12009</td>\n      <td>12289</td>\n      <td>93450</td>\n      <td>19765</td>\n      <td>14547</td>\n      <td>34766</td>\n    </tr>\n    <tr>\n      <th>6</th>\n      <td>8727</td>\n      <td>17018</td>\n      <td>11942</td>\n      <td>332659</td>\n      <td>16443</td>\n      <td>NaN</td>\n      <td>9313</td>\n      <td>16673</td>\n      <td>78578</td>\n      <td>56998</td>\n      <td>14426</td>\n      <td>31730</td>\n    </tr>\n    <tr>\n      <th>7</th>\n      <td>7783</td>\n      <td>12674</td>\n      <td>33132</td>\n      <td>282819</td>\n      <td>3877</td>\n      <td>NaN</td>\n      <td>785</td>\n      <td>18678</td>\n      <td>223096</td>\n      <td>6141</td>\n      <td>16069</td>\n      <td>19299</td>\n    </tr>\n    <tr>\n      <th>8</th>\n      <td>4880</td>\n      <td>24512</td>\n      <td>15271</td>\n      <td>187475</td>\n      <td>14222</td>\n      <td>121885</td>\n      <td>6300</td>\n      <td>5732</td>\n      <td>45245</td>\n      <td>39741</td>\n      <td>13858</td>\n      <td>26022</td>\n    </tr>\n    <tr>\n      <th>9</th>\n      <td>3938</td>\n      <td>4455</td>\n      <td>6431</td>\n      <td>NaN</td>\n      <td>16096</td>\n      <td>114801</td>\n      <td>3933</td>\n      <td>7873</td>\n      <td>140016</td>\n      <td>59564</td>\n      <td>15960</td>\n      <td>55914</td>\n    </tr>\n    <tr>\n      <th>10</th>\n      <td>5861</td>\n      <td>8135</td>\n      <td>10006</td>\n      <td>31643</td>\n      <td>12394</td>\n      <td>NaN</td>\n      <td>4193</td>\n      <td>34134</td>\n      <td>188394</td>\n      <td>23541</td>\n      <td>17688</td>\n      <td>28725</td>\n    </tr>\n    <tr>\n      <th>11</th>\n      <td>6808</td>\n      <td>15179</td>\n      <td>31917</td>\n      <td>NaN</td>\n      <td>19217</td>\n      <td>98317</td>\n      <td>6807</td>\n      <td>14359</td>\n      <td>178096</td>\n      <td>24411</td>\n      <td>15059</td>\n      <td>11841</td>\n    </tr>\n    <tr>\n      <th>12</th>\n      <td>6836</td>\n      <td>3481</td>\n      <td>6360</td>\n      <td>280609</td>\n      <td>21474</td>\n      <td>NaN</td>\n      <td>10683</td>\n      <td>7695</td>\n      <td>101069</td>\n      <td>22254</td>\n      <td>13940</td>\n      <td>47050</td>\n    </tr>\n    <tr>\n      <th>13</th>\n      <td>1490</td>\n      <td>9661</td>\n      <td>59903</td>\n      <td>144439</td>\n      <td>3627</td>\n      <td>52528</td>\n      <td>7507</td>\n      <td>7993</td>\n      <td>65005</td>\n      <td>25873</td>\n      <td>13552</td>\n      <td>36072</td>\n    </tr>\n    <tr>\n      <th>14</th>\n      <td>5851</td>\n      <td>9996</td>\n      <td>23592</td>\n      <td>NaN</td>\n      <td>7434</td>\n      <td>NaN</td>\n      <td>9106</td>\n      <td>21644</td>\n      <td>128753</td>\n      <td>31675</td>\n      <td>13283</td>\n      <td>25467</td>\n    </tr>\n    <tr>\n      <th>15</th>\n      <td>4754</td>\n      <td>6204</td>\n      <td>9003</td>\n      <td>76128</td>\n      <td>4478</td>\n      <td>NaN</td>\n      <td>4040</td>\n      <td>23569</td>\n      <td>247137</td>\n      <td>37243</td>\n      <td>14858</td>\n      <td>13488</td>\n    </tr>\n    <tr>\n      <th>16</th>\n      <td>8934</td>\n      <td>19454</td>\n      <td>21425</td>\n      <td>50043</td>\n      <td>26502</td>\n      <td>NaN</td>\n      <td>3909</td>\n      <td>9129</td>\n      <td>67211</td>\n      <td>9742</td>\n      <td>13761</td>\n      <td>20261</td>\n    </tr>\n    <tr>\n      <th>17</th>\n      <td>61541</td>\n      <td>3998</td>\n      <td>5720</td>\n      <td>56825</td>\n      <td>11222</td>\n      <td>NaN</td>\n      <td>2619</td>\n      <td>14131</td>\n      <td>110585</td>\n      <td>19274</td>\n      <td>14637</td>\n      <td>42501</td>\n    </tr>\n    <tr>\n      <th>18</th>\n      <td>4201</td>\n      <td>8689</td>\n      <td>15182</td>\n      <td>230315</td>\n      <td>8096</td>\n      <td>16991</td>\n      <td>3321</td>\n      <td>5498</td>\n      <td>135380</td>\n      <td>14176</td>\n      <td>14826</td>\n      <td>32772</td>\n    </tr>\n    <tr>\n      <th>19</th>\n      <td>2034</td>\n      <td>26328</td>\n      <td>53114</td>\n      <td>66321</td>\n      <td>21825</td>\n      <td>109471</td>\n      <td>8193</td>\n      <td>8742</td>\n      <td>185584</td>\n      <td>19936</td>\n      <td>16239</td>\n      <td>46559</td>\n    </tr>\n    <tr>\n      <th>20</th>\n      <td>69308</td>\n      <td>12454</td>\n      <td>24070</td>\n      <td>NaN</td>\n      <td>2864</td>\n      <td>180619</td>\n      <td>4596</td>\n      <td>11087</td>\n      <td>33328</td>\n      <td>33225</td>\n      <td>14206</td>\n      <td>41076</td>\n    </tr>\n  </tbody>\n</table>\n</div>"
     },
     "execution_count": 3,
     "metadata": {},
     "output_type": "execute_result"
    }
   ],
   "source": [
    "df= pd.DataFrame(results_obj.results_grammar)\n",
    "df\n"
   ],
   "metadata": {
    "collapsed": false,
    "ExecuteTime": {
     "end_time": "2024-02-23T20:00:08.471934500Z",
     "start_time": "2024-02-23T20:00:08.423424669Z"
    }
   },
   "id": "9860e4ae4bd2f0cf"
  },
  {
   "cell_type": "code",
   "execution_count": 42,
   "outputs": [
    {
     "name": "stdout",
     "output_type": "stream",
     "text": [
      "nguyen_1    3096.0     , 0\n",
      "nguyen_2    13687.0    , 0\n",
      "nguyen_3    130060.0   , 0\n",
      "nguyen_4    nan        , 20\n",
      "nguyen_5    1054.0     , 0\n",
      "nguyen_6    97358.0    , 0\n",
      "nguyen_7    10.0       , 0\n",
      "nguyen_8    1194.0     , 0\n",
      "nguyen_9    257961.0   , 0\n",
      "nguyen_10    20315.0    , 0\n",
      "nguyen_11    1315.0     , 1\n",
      "nguyen_12    23120.0    , 0\n"
     ]
    }
   ],
   "source": [
    "import pandas as pd\n",
    "df= pd.DataFrame(results_obj.results_nn_1000)\n",
    "#df_grammar\n",
    "nan_values = df.isna().sum(axis=0)\n",
    "mean_values = df.mean(axis=0).round(0)\n",
    "#mean_values =mean_values.astype(int)\n",
    "for nguyen in list(mean_values.index): \n",
    "    print(f\"{nguyen}    {mean_values.loc[nguyen]:<10} , {nan_values.loc[nguyen]}\")\n",
    "#df_grammar.mean(axis=0)"
   ],
   "metadata": {
    "collapsed": false,
    "ExecuteTime": {
     "end_time": "2024-02-23T02:47:16.072493340Z",
     "start_time": "2024-02-23T02:47:16.068038445Z"
    }
   },
   "id": "1e222e8033f9a80f"
  },
  {
   "cell_type": "code",
   "execution_count": null,
   "outputs": [],
   "source": [],
   "metadata": {
    "collapsed": false
   },
   "id": "cbe704c7d84ae13e"
  }
 ],
 "metadata": {
  "kernelspec": {
   "display_name": "Python 3",
   "language": "python",
   "name": "python3"
  },
  "language_info": {
   "codemirror_mode": {
    "name": "ipython",
    "version": 2
   },
   "file_extension": ".py",
   "mimetype": "text/x-python",
   "name": "python",
   "nbconvert_exporter": "python",
   "pygments_lexer": "ipython2",
   "version": "2.7.6"
  }
 },
 "nbformat": 4,
 "nbformat_minor": 5
}

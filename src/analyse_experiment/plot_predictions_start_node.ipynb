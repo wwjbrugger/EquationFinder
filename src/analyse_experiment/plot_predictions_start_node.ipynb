{
 "cells": [
  {
   "cell_type": "code",
   "execution_count": null,
   "outputs": [],
   "source": [
    "from definitions import ROOT_DIR\n",
    "import json\n",
    "import matplotlib.pyplot as plt\n",
    "import numpy as np\n",
    "from pathlib import Path\n",
    "import seaborn as sns\n",
    "import matplotlib.lines as lines"
   ],
   "metadata": {
    "collapsed": false
   },
   "id": "d6b14ebfc26d8475"
  },
  {
   "cell_type": "markdown",
   "source": [
    "### Load Data from disc "
   ],
   "metadata": {
    "collapsed": false
   },
   "id": "586bdbe6e447b840"
  },
  {
   "cell_type": "code",
   "execution_count": null,
   "outputs": [],
   "source": [
    "paths_to_dict = [\n",
    "\n",
    "    'priors/test_model__neural_net__data_grammar_8_run_1__Bi_LSTM_Measurement_Encoder__Transformer_Encoder_String250__Endgame__.json',\n",
    "    'priors/test_model__neural_net__data_grammar_8_run_1__Bi_LSTM_Measurement_Encoder__Transformer_Encoder_String125__Endgame__.json',\n",
    "    'priors/test_model__neural_net__data_grammar_8_run_1__Bi_LSTM_Measurement_Encoder__Transformer_Encoder_String50__Endgame__.json',\n",
    "    'priors/test_model__neural_net__data_grammar_8_run_1__Bi_LSTM_Measurement_Encoder__Transformer_Encoder_String5__Endgame__.json',\n",
    "    'priors/test_model__neural_net__data_grammar_8_run_1__Bi_LSTM_Measurement_Encoder__Transformer_Encoder_Stringsupervised__Endgame__.json',\n",
    "    'priors/test_model__neural_net__data_grammar_8_run_1__MeasurementEncoderDummy__Transformer_Encoder_Stringsupervised__Endgame__.json',\n",
    "    'priors/test_model__neural_net__data_grammar_8_run_1__Bi_LSTM_Measurement_Encoder__EquationEncoderDummysupervised__Endgame__.json',\n",
    "    'priors/test_model__uniform.json',\n",
    "\n",
    "    #'priors/test_model_token__neural_net__data_grammar_8_run_1__DatasetTransformer__Transformer_Encoder_Stringsupervised__Endgame__.json'\n",
    "]\n",
    "y_axis_label = {\n",
    "    'test_model__neural_net__data_grammar_8_run_1__Bi_LSTM_Measurement_Encoder__Transformer_Encoder_String250__Endgame__': '250',\n",
    "    'test_model__neural_net__data_grammar_8_run_1__Bi_LSTM_Measurement_Encoder__Transformer_Encoder_String125__Endgame__': '125',\n",
    "    'test_model__neural_net__data_grammar_8_run_1__Bi_LSTM_Measurement_Encoder__Transformer_Encoder_String50__Endgame__': '50',\n",
    "    'test_model__neural_net__data_grammar_8_run_1__Bi_LSTM_Measurement_Encoder__Transformer_Encoder_String5__Endgame__': '10',\n",
    "    'test_model__neural_net__data_grammar_8_run_1__Bi_LSTM_Measurement_Encoder__Transformer_Encoder_Stringsupervised__Endgame__': 'Complete',\n",
    "    'test_model__neural_net__data_grammar_8_run_1__MeasurementEncoderDummy__Transformer_Encoder_Stringsupervised__Endgame__': ' No Dataset',\n",
    "    'test_model__neural_net__data_grammar_8_run_1__Bi_LSTM_Measurement_Encoder__EquationEncoderDummysupervised__Endgame__': 'No  Tree ',\n",
    "    'test_model__uniform': 'uniform',\n",
    "    #'test_model_token__neural_net__data_grammar_8_run_1__Bi_LSTM_Measurement__Transformer_Encoder_Stringsupervised__Endgame__': 'Token_Supervised NPT',\n",
    "}\n",
    "priors_dict = {}\n",
    "for path in paths_to_dict:\n",
    "    with open(ROOT_DIR / path, 'r') as file:\n",
    "        loaded_data = json.load(file)\n",
    "        priors_dict[Path(path).stem] = loaded_data"
   ],
   "metadata": {
    "collapsed": false
   },
   "id": "746824705b6d9748"
  },
  {
   "cell_type": "markdown",
   "source": [
    "### visualize prediction"
   ],
   "metadata": {
    "collapsed": false
   },
   "id": "3cd04a541deec1e3"
  },
  {
   "cell_type": "code",
   "execution_count": null,
   "outputs": [],
   "source": [
    "def forward(value):\n",
    "    result = np.where(value <= 0.1, value * 5, (value - 0.1) * 5 / 9 + 0.5)\n",
    "    return result\n",
    "\n",
    "\n",
    "def inverse(value):\n",
    "    return np.where(value <= 0.5, value / 5, (value - 0.5) * 9 / 5 - 0.1)\n",
    "\n",
    "\n",
    "fig, axs = plt.subplots(len(paths_to_dict), 23, figsize=(8,  len(paths_to_dict)+1), sharey=True, sharex=False)\n",
    "equations = {\n",
    "     ' / c x_1 ' : '$ c / x_1  $',\n",
    "    ' + c  sin x_1 ' : '$c +  \\\\sin(x_1)$',\n",
    "    ' +  * c  ** 2 x_0    +  * c  ** 3 x_0    * c x_1   ' : '$c \\cdot x_0^3 + c \\cdot x_0^2 + c \\cdot x_0 $',\n",
    "     ' + c  ** 2 x_0  ' : '$c + x_0^2$'\n",
    "}\n",
    "for row, architecture in enumerate(priors_dict):\n",
    "    for column in range(23):\n",
    "        column = column\n",
    "        if column >= 21: \n",
    "            action = column + 5\n",
    "        else: \n",
    "            action = column\n",
    "        prior_mean = []\n",
    "        prior_std = []\n",
    "        for equation in equations.keys():\n",
    "            keys = list(priors_dict[architecture][equation].keys())\n",
    "            prior = []\n",
    "            for key in keys:\n",
    "                prior.append(priors_dict[architecture][equation][key][action])\n",
    "            prior_mean.append(np.mean(prior))\n",
    "            prior_std.append(np.std(prior))\n",
    "        axs[row, column].set_yscale('function', functions=(forward, inverse))\n",
    "        for i, equation in enumerate(equations):\n",
    "            axs[row, column].errorbar(x=i, \n",
    "                                      y=prior_mean[i],\n",
    "                                      yerr=prior_std[i],\n",
    "                                      fmt=['.', 'o', 'v', 'H'][i],\n",
    "                                      ls='none',\n",
    "                                      color=['black', 'dimgrey', 'gray', 'darkgrey', ][i],\n",
    "                                      label=equations[equation]\n",
    "                                      )\n",
    "\n",
    "        x_tick_labels = axs[row, column].get_xticklabels()\n",
    "        axs[row, column].set_xticklabels(['' for label in x_tick_labels])\n",
    "        axs[row, column].set_xlabel(action)\n",
    "        if column == 0:\n",
    "            axs[row, column].set_ylabel(y_axis_label[architecture])\n",
    "        axs[row, column].grid(visible=False, axis='x', which='both')\n",
    "        axs[row, column].spines['top'].set_visible(False)\n",
    "        axs[row, column].spines['right'].set_visible(False)\n",
    "        axs[row, column].spines['bottom'].set_visible(False)\n",
    "        axs[row, column].spines['left'].set_visible(False)\n",
    "        axs[row, column].set_ylim((-0.01, 1.15))\n",
    "        axs[row, column].set_xlim((-0.3, len(equations) + 0.2))\n",
    "        axs[row, column].set_yticks([0,  0.1,  1])\n",
    "     \n",
    "fig.add_artist(lines.Line2D([-0.02, 0.05], [0.50, 0.50], color='k'))\n",
    "fig.add_artist(lines.Line2D([-0.02, 0.05], [0.13, 0.13], color='k'))\n",
    "\n",
    "fig.text(-0.02, 0.7, 'Prior MCTS', rotation=90)\n",
    "fig.text(-0.02, 0.25, 'Prior Supervised ', rotation=90)\n",
    "fig.text(-0.02, 0.07, 'Qsa', rotation=90)\n",
    "\n",
    "fig.text(0.5, 0, 'Actions')\n",
    "handles, labels = axs[0, 0].get_legend_handles_labels()\n",
    "fig.legend(handles, labels, loc='upper center', ncol=4)\n",
    "fig.tight_layout()\n",
    "plt.subplots_adjust( wspace=0.06)   \n",
    "fig.savefig('priors_start_node.pdf', bbox_inches='tight', dpi=300)\n",
    "plt.show()\n",
    "        \n"
   ],
   "metadata": {
    "collapsed": false
   },
   "id": "df91dc67ba18494e"
  }
 ],
 "metadata": {
  "kernelspec": {
   "display_name": "Python 3",
   "language": "python",
   "name": "python3"
  },
  "language_info": {
   "codemirror_mode": {
    "name": "ipython",
    "version": 2
   },
   "file_extension": ".py",
   "mimetype": "text/x-python",
   "name": "python",
   "nbconvert_exporter": "python",
   "pygments_lexer": "ipython2",
   "version": "2.7.6"
  }
 },
 "nbformat": 4,
 "nbformat_minor": 5
}
